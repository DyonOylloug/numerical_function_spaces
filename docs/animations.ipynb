{
 "cells": [
  {
   "metadata": {},
   "cell_type": "markdown",
   "source": "# Animations",
   "id": "948d1d7c205c2354"
  },
  {
   "metadata": {
    "ExecuteTime": {
     "end_time": "2024-09-04T18:53:33.907032Z",
     "start_time": "2024-09-04T18:53:33.900540Z"
    }
   },
   "cell_type": "code",
   "source": [
    "# https://www.geeksforgeeks.org/using-matplotlib-for-animations/\n",
    "\n",
    "import numpy as np\n",
    "from matplotlib import pyplot as plt\n",
    "from matplotlib.animation import FuncAnimation\n",
    "from IPython.display import HTML, display\n",
    "import numerical_function_spaces.orlicz_spaces as osm"
   ],
   "id": "4cbc405834eed73b",
   "outputs": [],
   "execution_count": 5
  },
  {
   "metadata": {
    "ExecuteTime": {
     "end_time": "2024-09-04T18:53:34.319044Z",
     "start_time": "2024-09-04T18:53:34.312015Z"
    }
   },
   "cell_type": "code",
   "source": [
    "def Orlicz_function(u):\n",
    "    Phi = np.zeros(len(u))\n",
    "    for i in range(len(u)):\n",
    "        n = -1\n",
    "        while True:\n",
    "            if u[i] > n and u[i] <= n + 1:  # below two conjugated functions?\n",
    "                Phi[i] = (n + 1) * u[i] - (n + 1) * n / 2\n",
    "                # Phi[i] = n * u[i] - (n) * (n + 1) / 2\n",
    "                break\n",
    "            n = n + 1\n",
    "    return Phi"
   ],
   "id": "4df8fac59d535fdd",
   "outputs": [],
   "execution_count": 6
  },
  {
   "metadata": {
    "jupyter": {
     "is_executing": true
    },
    "ExecuteTime": {
     "start_time": "2024-09-04T18:59:05.579379Z"
    }
   },
   "cell_type": "code",
   "source": [
    "fig = plt.figure()\n",
    "ax = plt.axes(xlim=(0, 10),\n",
    "              ylim=(0, 1))\n",
    "k = np.arange(1, 10, 0.01)\n",
    "x = np.array([[1], [1]])\n",
    "kappa = np.zeros(len(k))\n",
    "for i in range(len(k)):\n",
    "    kappa[i] = osm.kappa(Orlicz_function, x=x, k=k[i], p_norm=1)\n",
    "\n",
    "line, = ax.plot([], [])\n",
    "\n",
    "def init():\n",
    "    line.set_data(k, kappa)\n",
    "    return line,\n",
    "\n",
    "\n",
    "def animate(frame):\n",
    "    x = np.array([[1], [(frame + 1) / 100]])\n",
    "    for i in range(len(k)):\n",
    "        kappa[i] = osm.kappa(Orlicz_function, x=x, k=k[i], p_norm=1)\n",
    "    line.set_data(k, kappa)\n",
    "    return line,\n",
    "\n",
    "anim = FuncAnimation(fig, animate, init_func=init,\n",
    "                     frames=50, interval=100, blit=True)\n",
    "# anim.save('im.gif', writer=\"pillow\")\n",
    "# anim.save(filename=\"html_example.html\", writer=\"html\")\n",
    "\n",
    "display(HTML(anim.to_jshtml()))\n",
    "plt.close()"
   ],
   "id": "abc710f0a99c53ae",
   "outputs": [],
   "execution_count": null
  },
  {
   "metadata": {
    "ExecuteTime": {
     "end_time": "2024-09-04T18:53:57.234083Z",
     "start_time": "2024-09-04T18:53:57.230118Z"
    }
   },
   "cell_type": "code",
   "source": "",
   "id": "f9950783e5806167",
   "outputs": [],
   "execution_count": null
  }
 ],
 "metadata": {
  "kernelspec": {
   "display_name": "Python 3",
   "language": "python",
   "name": "python3"
  },
  "language_info": {
   "codemirror_mode": {
    "name": "ipython",
    "version": 2
   },
   "file_extension": ".py",
   "mimetype": "text/x-python",
   "name": "python",
   "nbconvert_exporter": "python",
   "pygments_lexer": "ipython2",
   "version": "2.7.6"
  }
 },
 "nbformat": 4,
 "nbformat_minor": 5
}

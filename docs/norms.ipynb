{
 "cells": [
  {
   "cell_type": "markdown",
   "source": [
    "\n",
    "# Example usage\n",
    "\n",
    "To use `numerical_function_spaces` in a project:\n"
   ],
   "metadata": {}
  },
  {
   "cell_type": "code",
   "source": [
    "import decimal as dc\n",
    "\n",
    "import numpy as np\n",
    "\n",
    "import numerical_function_spaces.orlicz_spaces as osm"
   ],
   "metadata": {
    "ExecuteTime": {
     "end_time": "2024-08-17T23:15:09.735356Z",
     "start_time": "2024-08-17T23:15:08.267257Z"
    }
   },
   "outputs": [],
   "execution_count": 2
  },
  {
   "metadata": {},
   "cell_type": "markdown",
   "source": [
    "\n",
    "Define $x$ as simple function $x(t)=\\sum_{i=0}^{len\\_t - 1} a_i \\chi_{A_i}(t)$ as two rows numpy array, where first row is for $a_i$ and second is for $\\mu(A_i)$ "
   ]
  },
  {
   "metadata": {
    "ExecuteTime": {
     "end_time": "2024-08-17T23:15:09.747082Z",
     "start_time": "2024-08-17T23:15:09.735356Z"
    }
   },
   "cell_type": "code",
   "source": [
    "# constant function\n",
    "len_t = 1\n",
    "x_1 = np.zeros(shape=(2, len_t))\n",
    "x_1[1, 0] = 2  #  measure of support\n",
    "x_1[0, 0] = 1  # value\n",
    "\n",
    "# support with infinite measure support\n",
    "len_t = 1\n",
    "x_2 = np.zeros(shape=(2, len_t))\n",
    "x_2[1, 0] = np.inf  #  measure of support\n",
    "x_2[0, 0] = 1  # value\n",
    "\n",
    "len_t = 5  # \n",
    "x_3 = np.zeros(shape=(2, len_t))\n",
    "for i in range(len_t):\n",
    "    x_3[1, i] = i + 1  #  measure of supports\n",
    "    x_3[0, i] = 1 / (i + 1)  # values\n",
    "\n",
    "t_max = 2 * np.pi\n",
    "len_t = 1000\n",
    "x_4 = np.zeros(shape=(2, len_t))\n",
    "x_4[1, :] = t_max / len_t  # measure of supports\n",
    "for i in range(len_t):\n",
    "    arg = t_max / len_t * i\n",
    "    if arg <= 3:\n",
    "        x_4[0, i] = np.sin(arg)  # values\n"
   ],
   "outputs": [],
   "execution_count": 3
  },
  {
   "metadata": {},
   "cell_type": "markdown",
   "source": "Define Orlicz function"
  },
  {
   "metadata": {
    "ExecuteTime": {
     "end_time": "2024-08-17T23:15:09.753973Z",
     "start_time": "2024-08-17T23:15:09.747082Z"
    }
   },
   "cell_type": "code",
   "source": [
    "def Orlicz_function(u):\n",
    "    return np.where(u <= 1, u, np.inf)"
   ],
   "outputs": [],
   "execution_count": 4
  },
  {
   "metadata": {},
   "cell_type": "markdown",
   "source": "example of using kappa() function"
  },
  {
   "metadata": {
    "ExecuteTime": {
     "end_time": "2024-08-17T23:15:09.770106Z",
     "start_time": "2024-08-17T23:15:09.753973Z"
    }
   },
   "cell_type": "code",
   "source": "osm.kappa(Orlicz_function, x=x_1, k=1, p_norm=1)",
   "outputs": [
    {
     "data": {
      "text/plain": [
       "np.float64(3.0)"
      ]
     },
     "execution_count": 5,
     "metadata": {},
     "output_type": "execute_result"
    }
   ],
   "execution_count": 5
  },
  {
   "metadata": {
    "ExecuteTime": {
     "end_time": "2024-08-17T23:15:13.600607Z",
     "start_time": "2024-08-17T23:15:09.770106Z"
    }
   },
   "cell_type": "code",
   "source": [
    "%%timeit\n",
    "osm.kappa(Orlicz_function, x=x_1, k=1, p_norm=1)"
   ],
   "outputs": [
    {
     "name": "stdout",
     "output_type": "stream",
     "text": [
      "45.2 μs ± 8.01 μs per loop (mean ± std. dev. of 7 runs, 10,000 loops each)\n"
     ]
    }
   ],
   "execution_count": 6
  },
  {
   "metadata": {},
   "cell_type": "markdown",
   "source": "example of using p_Amemiya_norm() function "
  },
  {
   "metadata": {
    "ExecuteTime": {
     "end_time": "2024-08-17T23:15:13.632364Z",
     "start_time": "2024-08-17T23:15:13.600607Z"
    }
   },
   "cell_type": "code",
   "source": "osm.p_Amemiya_norm(Orlicz_function, x=x_1, p_norm=1)",
   "outputs": [
    {
     "data": {
      "text/plain": [
       "np.float64(3.0)"
      ]
     },
     "execution_count": 7,
     "metadata": {},
     "output_type": "execute_result"
    }
   ],
   "execution_count": 7
  },
  {
   "metadata": {
    "ExecuteTime": {
     "end_time": "2024-08-17T23:15:15.007406Z",
     "start_time": "2024-08-17T23:15:13.632364Z"
    }
   },
   "cell_type": "code",
   "source": [
    "%%timeit\n",
    "osm.p_Amemiya_norm(Orlicz_function, x=x_1, p_norm=1)"
   ],
   "outputs": [
    {
     "name": "stdout",
     "output_type": "stream",
     "text": [
      "16.1 ms ± 1.26 ms per loop (mean ± std. dev. of 7 runs, 10 loops each)\n"
     ]
    }
   ],
   "execution_count": 8
  },
  {
   "metadata": {},
   "cell_type": "markdown",
   "source": "example of using p_Amemiya_norm_with_stars() function"
  },
  {
   "metadata": {
    "ExecuteTime": {
     "end_time": "2024-08-17T23:15:15.308665Z",
     "start_time": "2024-08-17T23:15:15.007406Z"
    }
   },
   "cell_type": "code",
   "source": "osm.p_Amemiya_norm_with_stars(Orlicz_function, x=x_1, p_norm=1)",
   "outputs": [
    {
     "data": {
      "text/plain": [
       "(np.float64(3.000110995691083),\n",
       " np.float64(0.9998890166275929),\n",
       " np.float64(0.9998890166275929))"
      ]
     },
     "execution_count": 9,
     "metadata": {},
     "output_type": "execute_result"
    }
   ],
   "execution_count": 9
  },
  {
   "metadata": {
    "ExecuteTime": {
     "end_time": "2024-08-17T23:15:17.373411Z",
     "start_time": "2024-08-17T23:15:15.308665Z"
    }
   },
   "cell_type": "code",
   "source": [
    "%%timeit\n",
    "osm.p_Amemiya_norm_with_stars(Orlicz_function, x=x_1, p_norm=1)"
   ],
   "outputs": [
    {
     "name": "stdout",
     "output_type": "stream",
     "text": [
      "257 ms ± 13.9 ms per loop (mean ± std. dev. of 7 runs, 1 loop each)\n"
     ]
    }
   ],
   "execution_count": 10
  },
  {
   "metadata": {},
   "cell_type": "markdown",
   "source": "example of using p_Amemiya_norm_with_stars() function with additional parameters"
  },
  {
   "metadata": {
    "ExecuteTime": {
     "end_time": "2024-08-17T23:15:24.862197Z",
     "start_time": "2024-08-17T23:15:17.373411Z"
    }
   },
   "cell_type": "code",
   "source": [
    "osm.p_Amemiya_norm_with_stars(Orlicz_function, x=x_1, p_norm=1,\n",
    "                              k_min=0.9,\n",
    "                              k_max=1.1,\n",
    "                              len_domain_k=100000,)\n",
    "                              # show_progress=True)"
   ],
   "outputs": [
    {
     "data": {
      "text/plain": [
       "(np.float64(3.0000000000026756),\n",
       " np.float64(0.9999999999973245),\n",
       " np.float64(0.9999999999973245))"
      ]
     },
     "execution_count": 11,
     "metadata": {},
     "output_type": "execute_result"
    }
   ],
   "execution_count": 11
  },
  {
   "metadata": {
    "ExecuteTime": {
     "end_time": "2024-08-17T23:15:28.688873Z",
     "start_time": "2024-08-17T23:15:24.862197Z"
    }
   },
   "cell_type": "code",
   "source": [
    "%%timeit\n",
    "osm.p_Amemiya_norm_with_stars(Orlicz_function, x=x_1, p_norm=1, k_min=0.9, k_max=1.1, len_domain_k=1000)"
   ],
   "outputs": [
    {
     "name": "stdout",
     "output_type": "stream",
     "text": [
      "46.9 ms ± 1.24 ms per loop (mean ± std. dev. of 7 runs, 10 loops each)\n"
     ]
    }
   ],
   "execution_count": 12
  },
  {
   "metadata": {},
   "cell_type": "markdown",
   "source": "example of using p_Amemiya_norm_with_stars_by_decimal() function"
  },
  {
   "metadata": {
    "ExecuteTime": {
     "end_time": "2024-08-17T23:15:28.696246Z",
     "start_time": "2024-08-17T23:15:28.688873Z"
    }
   },
   "cell_type": "code",
   "source": [
    "print(dc.getcontext().prec)\n",
    "print(dc.Decimal(0.2))\n",
    "print(dc.Decimal('0.2'))\n",
    "print(dc.Decimal(1) / 5)\n",
    "print((dc.Decimal(np.sqrt(2)))**2)\n",
    "print((dc.Decimal(2).sqrt())**2)\n",
    "\n",
    "dc.getcontext().prec = 50\n",
    "print(dc.Decimal(0.2))\n",
    "print(dc.Decimal('0.2'))\n",
    "print(dc.Decimal(1) / 5)\n",
    "print((dc.Decimal(np.sqrt(2)))**2)\n",
    "print((dc.Decimal(2).sqrt())**2)"
   ],
   "outputs": [
    {
     "name": "stdout",
     "output_type": "stream",
     "text": [
      "28\n",
      "0.200000000000000011102230246251565404236316680908203125\n",
      "0.2\n",
      "0.2\n",
      "2.000000000000000273432346306\n",
      "1.999999999999999999999999999\n",
      "0.200000000000000011102230246251565404236316680908203125\n",
      "0.2\n",
      "0.2\n",
      "2.0000000000000002734323463064769280688491650795723\n",
      "1.9999999999999999999999999999999999999999999999999\n"
     ]
    }
   ],
   "execution_count": 13
  },
  {
   "metadata": {},
   "cell_type": "markdown",
   "source": "Orlicz function and x must be prepared to decimal form"
  },
  {
   "metadata": {
    "ExecuteTime": {
     "end_time": "2024-08-17T23:15:28.765288Z",
     "start_time": "2024-08-17T23:15:28.696246Z"
    }
   },
   "cell_type": "code",
   "source": [
    "def Orlicz_function(u):\n",
    "    return np.where(u <= 1, u, dc.Decimal(np.inf))\n",
    "len_t = 1\n",
    "x_5 = np.zeros(shape=(2, len_t), dtype=np.dtype('object'))\n",
    "x_5[1, 0] = dc.Decimal(2)  #  measure of support\n",
    "x_5[0, 0] = dc.Decimal(1)  # value\n",
    "osm.p_Amemiya_norm_with_stars_by_decimal(Orlicz_function, x=x_5, p_norm=1)"
   ],
   "outputs": [
    {
     "data": {
      "text/plain": [
       "(Decimal('3.1110988766779245797415719566910102134319832100514'),\n",
       " Decimal('0.90000991'),\n",
       " Decimal('0.90000991'))"
      ]
     },
     "execution_count": 14,
     "metadata": {},
     "output_type": "execute_result"
    }
   ],
   "execution_count": 14
  },
  {
   "metadata": {
    "ExecuteTime": {
     "end_time": "2024-08-17T23:15:34.595405Z",
     "start_time": "2024-08-17T23:15:28.765288Z"
    }
   },
   "cell_type": "code",
   "source": [
    "%%timeit\n",
    "osm.p_Amemiya_norm_with_stars_by_decimal(Orlicz_function, x=x_5, p_norm=1)"
   ],
   "outputs": [
    {
     "name": "stdout",
     "output_type": "stream",
     "text": [
      "69.3 ms ± 14.3 ms per loop (mean ± std. dev. of 7 runs, 10 loops each)\n"
     ]
    }
   ],
   "execution_count": 15
  },
  {
   "metadata": {},
   "cell_type": "markdown",
   "source": "example of using p_Amemiya_norm_with_stars_by_decimal() function with additional parameters"
  },
  {
   "metadata": {
    "ExecuteTime": {
     "end_time": "2024-08-17T23:15:35.545081Z",
     "start_time": "2024-08-17T23:15:34.595405Z"
    }
   },
   "cell_type": "code",
   "source": [
    "osm.p_Amemiya_norm_with_stars_by_decimal(Orlicz_function, x=x_5, p_norm=dc.Decimal(1),\n",
    "                                         k_min=dc.Decimal('0.9'),\n",
    "                                         k_max=dc.Decimal('1.1'),\n",
    "                                         len_domain_k=10000, )\n",
    "                                         # show_progress=True)"
   ],
   "outputs": [
    {
     "data": {
      "text/plain": [
       "(Decimal('3.00000'), Decimal('1.00000'), Decimal('1.00000'))"
      ]
     },
     "execution_count": 16,
     "metadata": {},
     "output_type": "execute_result"
    }
   ],
   "execution_count": 16
  },
  {
   "metadata": {
    "ExecuteTime": {
     "end_time": "2024-08-17T23:15:40.215699Z",
     "start_time": "2024-08-17T23:15:35.545081Z"
    }
   },
   "cell_type": "code",
   "source": [
    "%%timeit\n",
    "osm.p_Amemiya_norm_with_stars_by_decimal(Orlicz_function, x=x_5, p_norm=dc.Decimal(1),\n",
    "                                         k_min=dc.Decimal('0.9'),\n",
    "                                         k_max=dc.Decimal('1.1'),\n",
    "                                         len_domain_k=1000\n",
    "                                         )"
   ],
   "outputs": [
    {
     "name": "stdout",
     "output_type": "stream",
     "text": [
      "57.5 ms ± 1.82 ms per loop (mean ± std. dev. of 7 runs, 10 loops each)\n"
     ]
    }
   ],
   "execution_count": 17
  },
  {
   "metadata": {},
   "cell_type": "markdown",
   "source": "In the next example there is false $k_p^{*}(x)$ less than $k_p^{**}(x)$"
  },
  {
   "metadata": {
    "ExecuteTime": {
     "end_time": "2024-08-17T23:15:48.278916Z",
     "start_time": "2024-08-17T23:15:48.258823Z"
    }
   },
   "cell_type": "code",
   "source": [
    "def Orlicz_function(u):\n",
    "    return np.where(u <=1, u, 2 * u - 1)\n",
    "\n",
    "x = np.array([[1],[3]])\n"
   ],
   "outputs": [],
   "execution_count": 20
  },
  {
   "metadata": {
    "ExecuteTime": {
     "end_time": "2024-08-17T23:19:18.056674Z",
     "start_time": "2024-08-17T23:19:17.706679Z"
    }
   },
   "cell_type": "code",
   "source": "osm.p_Amemiya_norm_with_stars(Orlicz_function, x=x, p_norm=20)",
   "outputs": [
    {
     "data": {
      "text/plain": [
       "(np.float64(3.0000000000430616),\n",
       " np.float64(0.64823266269593),\n",
       " np.float64(0.9999516967001615))"
      ]
     },
     "execution_count": 25,
     "metadata": {},
     "output_type": "execute_result"
    }
   ],
   "execution_count": 25
  },
  {
   "metadata": {
    "ExecuteTime": {
     "end_time": "2024-08-17T23:19:19.827800Z",
     "start_time": "2024-08-17T23:19:19.209737Z"
    }
   },
   "cell_type": "code",
   "source": "osm.p_Amemiya_norm_with_stars_by_decimal(Orlicz_function, x=x, p_norm=dc.Decimal(10))",
   "outputs": [
    {
     "data": {
      "text/plain": [
       "(Decimal('3.0000145688845555222000227125563249652936039015189'),\n",
       " Decimal('0.90000991'),\n",
       " Decimal('0.90000991'))"
      ]
     },
     "execution_count": 26,
     "metadata": {},
     "output_type": "execute_result"
    }
   ],
   "execution_count": 26
  },
  {
   "metadata": {},
   "cell_type": "markdown",
   "source": "For better accuracy we may reduce domain by"
  },
  {
   "metadata": {
    "ExecuteTime": {
     "end_time": "2024-08-17T23:25:53.896514Z",
     "start_time": "2024-08-17T23:25:53.818975Z"
    }
   },
   "cell_type": "code",
   "source": [
    "osm.p_Amemiya_norm_with_stars(Orlicz_function, x=x, p_norm=20,\n",
    "                              k_min=0.45,\n",
    "                              k_max=1.05)"
   ],
   "outputs": [
    {
     "data": {
      "text/plain": [
       "(np.float64(3.0000000000433653),\n",
       " np.float64(0.6671999999999962),\n",
       " np.float64(0.9995999999999903))"
      ]
     },
     "execution_count": 47,
     "metadata": {},
     "output_type": "execute_result"
    }
   ],
   "execution_count": 47
  },
  {
   "metadata": {
    "ExecuteTime": {
     "end_time": "2024-08-17T23:25:55.140072Z",
     "start_time": "2024-08-17T23:25:54.405942Z"
    }
   },
   "cell_type": "code",
   "source": [
    "osm.p_Amemiya_norm_with_stars_by_decimal(Orlicz_function, x=x, p_norm=dc.Decimal(10),\n",
    "                                         k_min=dc.Decimal(45)/100,\n",
    "                                         k_max=dc.Decimal(105)/100)"
   ],
   "outputs": [
    {
     "data": {
      "text/plain": [
       "(Decimal('3.0000051008541999106151967575520682494068505040605'),\n",
       " Decimal('0.9996'),\n",
       " Decimal('0.9996'))"
      ]
     },
     "execution_count": 48,
     "metadata": {},
     "output_type": "execute_result"
    }
   ],
   "execution_count": 48
  },
  {
   "metadata": {},
   "cell_type": "code",
   "outputs": [],
   "execution_count": null,
   "source": ""
  }
 ],
 "metadata": {
  "kernelspec": {
   "display_name": "Python 3",
   "language": "python",
   "name": "python3"
  },
  "language_info": {
   "codemirror_mode": {
    "name": "ipython",
    "version": 3
   },
   "file_extension": ".py",
   "mimetype": "text/x-python",
   "name": "python",
   "nbconvert_exporter": "python",
   "pygments_lexer": "ipython3",
   "version": "3.8.5"
  }
 },
 "nbformat": 4,
 "nbformat_minor": 4
}

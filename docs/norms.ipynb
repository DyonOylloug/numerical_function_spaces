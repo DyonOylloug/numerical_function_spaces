{
 "cells": [
  {
   "cell_type": "markdown",
   "source": [
    "\n",
    "# Example usage\n",
    "\n",
    "To use `numerical_function_spaces` in a project:\n"
   ],
   "metadata": {}
  },
  {
   "cell_type": "code",
   "source": [
    "import decimal as dc\n",
    "\n",
    "import numpy as np\n",
    "\n",
    "import numerical_function_spaces.orlicz_spaces as osm"
   ],
   "metadata": {
    "ExecuteTime": {
     "end_time": "2024-08-15T17:40:51.283605Z",
     "start_time": "2024-08-15T17:40:51.143988Z"
    }
   },
   "outputs": [],
   "execution_count": 1
  },
  {
   "metadata": {},
   "cell_type": "markdown",
   "source": [
    "\n",
    "Define $x$ as simple function $x(t)=\\sum_{i=0}^{len\\_t - 1} a_i \\chi_{A_i}(t)$ as two rows numpy array, where first row is for $a_i$ and second is for $\\mu(A_i)$ "
   ]
  },
  {
   "metadata": {
    "ExecuteTime": {
     "end_time": "2024-08-15T17:40:51.296618Z",
     "start_time": "2024-08-15T17:40:51.283605Z"
    }
   },
   "cell_type": "code",
   "source": [
    "# constant function\n",
    "len_t = 1\n",
    "x_1 = np.zeros(shape=(2, len_t))\n",
    "x_1[1, 0] = 2  #  measure of support\n",
    "x_1[0, 0] = 1  # value\n",
    "\n",
    "# support with infinite measure support\n",
    "len_t = 1\n",
    "x_2 = np.zeros(shape=(2, len_t))\n",
    "x_2[1, 0] = np.inf  #  measure of support\n",
    "x_2[0, 0] = 1  # value\n",
    "\n",
    "len_t = 5  # \n",
    "x_3 = np.zeros(shape=(2, len_t))\n",
    "for i in range(len_t):\n",
    "    x_3[1, i] = i + 1  #  measure of supports\n",
    "    x_3[0, i] = 1 / (i + 1)  # values\n",
    "\n",
    "t_max = 2 * np.pi\n",
    "len_t = 1000\n",
    "x_4 = np.zeros(shape=(2, len_t))\n",
    "x_4[1, :] = t_max / len_t  # measure of supports\n",
    "for i in range(len_t):\n",
    "    arg = t_max / len_t * i\n",
    "    if arg <= 3:\n",
    "        x_4[0, i] = np.sin(arg)  # values\n"
   ],
   "outputs": [],
   "execution_count": 2
  },
  {
   "metadata": {},
   "cell_type": "markdown",
   "source": "Define Orlicz function"
  },
  {
   "metadata": {
    "ExecuteTime": {
     "end_time": "2024-08-15T17:40:51.302860Z",
     "start_time": "2024-08-15T17:40:51.296618Z"
    }
   },
   "cell_type": "code",
   "source": [
    "def Orlicz_function(u):\n",
    "    return np.where(u <= 1, u, np.inf)"
   ],
   "outputs": [],
   "execution_count": 3
  },
  {
   "metadata": {},
   "cell_type": "markdown",
   "source": "example of using kappa() function"
  },
  {
   "metadata": {
    "ExecuteTime": {
     "end_time": "2024-08-15T17:40:51.314921Z",
     "start_time": "2024-08-15T17:40:51.302860Z"
    }
   },
   "cell_type": "code",
   "source": "osm.kappa(Orlicz_function, x=x_1, k=1, p_norm=1)",
   "outputs": [
    {
     "data": {
      "text/plain": [
       "np.float64(3.0)"
      ]
     },
     "execution_count": 4,
     "metadata": {},
     "output_type": "execute_result"
    }
   ],
   "execution_count": 4
  },
  {
   "metadata": {
    "ExecuteTime": {
     "end_time": "2024-08-15T17:40:54.585172Z",
     "start_time": "2024-08-15T17:40:51.314921Z"
    }
   },
   "cell_type": "code",
   "source": [
    "%%timeit\n",
    "osm.kappa(Orlicz_function, x=x_1, k=1, p_norm=1)"
   ],
   "outputs": [
    {
     "name": "stdout",
     "output_type": "stream",
     "text": [
      "40.3 μs ± 910 ns per loop (mean ± std. dev. of 7 runs, 10,000 loops each)\n"
     ]
    }
   ],
   "execution_count": 5
  },
  {
   "metadata": {},
   "cell_type": "markdown",
   "source": "example of using p_Amemiya_norm() function "
  },
  {
   "metadata": {
    "ExecuteTime": {
     "end_time": "2024-08-15T17:40:54.620028Z",
     "start_time": "2024-08-15T17:40:54.585172Z"
    }
   },
   "cell_type": "code",
   "source": "osm.p_Amemiya_norm(Orlicz_function, x=x_1, p_norm=1)",
   "outputs": [
    {
     "data": {
      "text/plain": [
       "np.float64(3.0)"
      ]
     },
     "execution_count": 6,
     "metadata": {},
     "output_type": "execute_result"
    }
   ],
   "execution_count": 6
  },
  {
   "metadata": {
    "ExecuteTime": {
     "end_time": "2024-08-15T17:41:08.257932Z",
     "start_time": "2024-08-15T17:40:54.620028Z"
    }
   },
   "cell_type": "code",
   "source": [
    "%%timeit\n",
    "osm.p_Amemiya_norm(Orlicz_function, x=x_1, p_norm=1)"
   ],
   "outputs": [
    {
     "name": "stdout",
     "output_type": "stream",
     "text": [
      "16.8 ms ± 419 μs per loop (mean ± std. dev. of 7 runs, 100 loops each)\n"
     ]
    }
   ],
   "execution_count": 7
  },
  {
   "metadata": {},
   "cell_type": "markdown",
   "source": "example of using p_Amemiya_norm_with_stars() function"
  },
  {
   "metadata": {
    "ExecuteTime": {
     "end_time": "2024-08-15T17:41:08.551866Z",
     "start_time": "2024-08-15T17:41:08.257932Z"
    }
   },
   "cell_type": "code",
   "source": "osm.p_Amemiya_norm_with_stars(Orlicz_function, x=x_1, p_norm=1)",
   "outputs": [
    {
     "data": {
      "text/plain": [
       "(np.float64(3.000110995691083),\n",
       " np.float64(0.9998890166275929),\n",
       " np.float64(0.9998890166275929))"
      ]
     },
     "execution_count": 8,
     "metadata": {},
     "output_type": "execute_result"
    }
   ],
   "execution_count": 8
  },
  {
   "metadata": {
    "ExecuteTime": {
     "end_time": "2024-08-15T17:41:10.605483Z",
     "start_time": "2024-08-15T17:41:08.551866Z"
    }
   },
   "cell_type": "code",
   "source": [
    "%%timeit\n",
    "osm.p_Amemiya_norm_with_stars(Orlicz_function, x=x_1, p_norm=1)"
   ],
   "outputs": [
    {
     "name": "stdout",
     "output_type": "stream",
     "text": [
      "253 ms ± 12.3 ms per loop (mean ± std. dev. of 7 runs, 1 loop each)\n"
     ]
    }
   ],
   "execution_count": 9
  },
  {
   "metadata": {},
   "cell_type": "markdown",
   "source": "example of using p_Amemiya_norm_with_stars() function with additional parameters"
  },
  {
   "metadata": {
    "ExecuteTime": {
     "end_time": "2024-08-15T17:41:18.263167Z",
     "start_time": "2024-08-15T17:41:10.605483Z"
    }
   },
   "cell_type": "code",
   "source": [
    "osm.p_Amemiya_norm_with_stars(Orlicz_function, x=x_1, p_norm=1,\n",
    "                              k_min=0.9,\n",
    "                              k_max=1.1,\n",
    "                              len_domain_k=100000,)\n",
    "                              # show_progress=True)"
   ],
   "outputs": [
    {
     "data": {
      "text/plain": [
       "(np.float64(3.0000000000026756),\n",
       " np.float64(0.9999999999973245),\n",
       " np.float64(0.9999999999973245))"
      ]
     },
     "execution_count": 10,
     "metadata": {},
     "output_type": "execute_result"
    }
   ],
   "execution_count": 10
  },
  {
   "metadata": {
    "ExecuteTime": {
     "end_time": "2024-08-15T17:41:22.104631Z",
     "start_time": "2024-08-15T17:41:18.263167Z"
    }
   },
   "cell_type": "code",
   "source": [
    "%%timeit\n",
    "osm.p_Amemiya_norm_with_stars(Orlicz_function, x=x_1, p_norm=1, k_min=0.9, k_max=1.1, len_domain_k=1000)"
   ],
   "outputs": [
    {
     "name": "stdout",
     "output_type": "stream",
     "text": [
      "47.1 ms ± 687 μs per loop (mean ± std. dev. of 7 runs, 10 loops each)\n"
     ]
    }
   ],
   "execution_count": 11
  },
  {
   "metadata": {},
   "cell_type": "markdown",
   "source": "example of using p_Amemiya_norm_with_stars_by_decimal() function"
  },
  {
   "metadata": {
    "ExecuteTime": {
     "end_time": "2024-08-15T17:41:22.112225Z",
     "start_time": "2024-08-15T17:41:22.104631Z"
    }
   },
   "cell_type": "code",
   "source": [
    "print(dc.getcontext().prec)\n",
    "print(dc.Decimal(0.2))\n",
    "print(dc.Decimal('0.2'))\n",
    "print(dc.Decimal(1) / 5)\n",
    "print((dc.Decimal(np.sqrt(2)))**2)\n",
    "print((dc.Decimal(2).sqrt())**2)\n",
    "\n",
    "dc.getcontext().prec = 50\n",
    "print(dc.Decimal(0.2))\n",
    "print(dc.Decimal('0.2'))\n",
    "print(dc.Decimal(1) / 5)\n",
    "print((dc.Decimal(np.sqrt(2)))**2)\n",
    "print((dc.Decimal(2).sqrt())**2)"
   ],
   "outputs": [
    {
     "name": "stdout",
     "output_type": "stream",
     "text": [
      "28\n",
      "0.200000000000000011102230246251565404236316680908203125\n",
      "0.2\n",
      "0.2\n",
      "2.000000000000000273432346306\n",
      "1.999999999999999999999999999\n",
      "0.200000000000000011102230246251565404236316680908203125\n",
      "0.2\n",
      "0.2\n",
      "2.0000000000000002734323463064769280688491650795723\n",
      "1.9999999999999999999999999999999999999999999999999\n"
     ]
    }
   ],
   "execution_count": 12
  },
  {
   "metadata": {},
   "cell_type": "markdown",
   "source": "Orlicz function and x must be prepared to decimal form"
  },
  {
   "metadata": {
    "ExecuteTime": {
     "end_time": "2024-08-15T17:41:22.184013Z",
     "start_time": "2024-08-15T17:41:22.112225Z"
    }
   },
   "cell_type": "code",
   "source": [
    "def Orlicz_function(u):\n",
    "    return np.where(u <= 1, u, dc.Decimal(np.inf))\n",
    "len_t = 1\n",
    "x_5 = np.zeros(shape=(2, len_t), dtype=np.dtype('object'))\n",
    "x_5[1, 0] = dc.Decimal(2)  #  measure of support\n",
    "x_5[0, 0] = dc.Decimal(1)  # value\n",
    "osm.p_Amemiya_norm_with_stars_by_decimal(Orlicz_function, x=x_5, p_norm=1)"
   ],
   "outputs": [
    {
     "data": {
      "text/plain": [
       "(Decimal('3.1110988766779245797415719566910102134319832100514'),\n",
       " Decimal('0.90000991'),\n",
       " Decimal('0.90000991'))"
      ]
     },
     "execution_count": 13,
     "metadata": {},
     "output_type": "execute_result"
    }
   ],
   "execution_count": 13
  },
  {
   "metadata": {
    "ExecuteTime": {
     "end_time": "2024-08-15T17:41:27.050040Z",
     "start_time": "2024-08-15T17:41:22.184013Z"
    }
   },
   "cell_type": "code",
   "source": [
    "%%timeit\n",
    "osm.p_Amemiya_norm_with_stars_by_decimal(Orlicz_function, x=x_5, p_norm=1)"
   ],
   "outputs": [
    {
     "name": "stdout",
     "output_type": "stream",
     "text": [
      "60 ms ± 713 μs per loop (mean ± std. dev. of 7 runs, 10 loops each)\n"
     ]
    }
   ],
   "execution_count": 14
  },
  {
   "metadata": {},
   "cell_type": "markdown",
   "source": "example of using p_Amemiya_norm_with_stars_by_decimal() function with additional parameters"
  },
  {
   "metadata": {
    "ExecuteTime": {
     "end_time": "2024-08-15T17:41:27.944848Z",
     "start_time": "2024-08-15T17:41:27.050040Z"
    }
   },
   "cell_type": "code",
   "source": [
    "osm.p_Amemiya_norm_with_stars_by_decimal(Orlicz_function, x=x_5, p_norm=dc.Decimal(1),\n",
    "                                         k_min=dc.Decimal('0.9'),\n",
    "                                         k_max=dc.Decimal('1.1'),\n",
    "                                         len_domain_k=10000, )\n",
    "                                         # show_progress=True)"
   ],
   "outputs": [
    {
     "data": {
      "text/plain": [
       "(Decimal('3.00000'), Decimal('1.00000'), Decimal('1.00000'))"
      ]
     },
     "execution_count": 15,
     "metadata": {},
     "output_type": "execute_result"
    }
   ],
   "execution_count": 15
  },
  {
   "metadata": {
    "ExecuteTime": {
     "end_time": "2024-08-15T17:41:32.936008Z",
     "start_time": "2024-08-15T17:41:27.944848Z"
    }
   },
   "cell_type": "code",
   "source": [
    "%%timeit\n",
    "osm.p_Amemiya_norm_with_stars_by_decimal(Orlicz_function, x=x_5, p_norm=dc.Decimal(1),\n",
    "                                         k_min=dc.Decimal('0.9'),\n",
    "                                         k_max=dc.Decimal('1.1'),\n",
    "                                         len_domain_k=1000\n",
    "                                         )"
   ],
   "outputs": [
    {
     "name": "stdout",
     "output_type": "stream",
     "text": [
      "61.7 ms ± 1.31 ms per loop (mean ± std. dev. of 7 runs, 10 loops each)\n"
     ]
    }
   ],
   "execution_count": 16
  },
  {
   "metadata": {
    "ExecuteTime": {
     "end_time": "2024-08-15T17:41:32.939506Z",
     "start_time": "2024-08-15T17:41:32.936008Z"
    }
   },
   "cell_type": "code",
   "source": "",
   "outputs": [],
   "execution_count": 16
  }
 ],
 "metadata": {
  "kernelspec": {
   "display_name": "Python 3",
   "language": "python",
   "name": "python3"
  },
  "language_info": {
   "codemirror_mode": {
    "name": "ipython",
    "version": 3
   },
   "file_extension": ".py",
   "mimetype": "text/x-python",
   "name": "python",
   "nbconvert_exporter": "python",
   "pygments_lexer": "ipython3",
   "version": "3.8.5"
  }
 },
 "nbformat": 4,
 "nbformat_minor": 4
}
